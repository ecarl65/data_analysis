{
 "cells": [
  {
   "cell_type": "code",
   "execution_count": 4,
   "metadata": {
    "collapsed": false
   },
   "outputs": [],
   "source": [
    "%matplotlib inline\n",
    "import pandas\n",
    "import matplotlib\n",
    "import matplotlib.pyplot as plt\n",
    "import numpy as np"
   ]
  },
  {
   "cell_type": "markdown",
   "metadata": {},
   "source": [
    "# Background Information"
   ]
  },
  {
   "cell_type": "markdown",
   "metadata": {},
   "source": [
    "In a Stroop task, participants are presented with a list of words, with each word displayed in a color of ink. The participant’s task is to say out loud the color of the ink in which the word is printed. The task has two conditions: a congruent words condition, and an incongruent words condition. In the congruent words condition, the words being displayed are color words whose names match the colors in which they are printed: for example <font color='red'>RED</font>, <font color='blue'>BLUE</font>. In the incongruent words condition, the words displayed are color words whose names do not match the colors in which they are printed: for example <font color='purple'>PURPLE</font>, <font color='orange'>ORANGE</font>. In each case, we measure the time it takes to name the ink colors in equally-sized lists. Each participant will go through and record a time from each condition."
   ]
  },
  {
   "cell_type": "markdown",
   "metadata": {},
   "source": [
    "# Questions for Investigation"
   ]
  },
  {
   "cell_type": "markdown",
   "metadata": {},
   "source": [
    "## Question 1.1 - What is our independent variable? "
   ]
  },
  {
   "cell_type": "markdown",
   "metadata": {},
   "source": [
    "The independent variable is the choice of whether a word and its color is congruent or incongruent."
   ]
  },
  {
   "cell_type": "markdown",
   "metadata": {},
   "source": [
    "## Question 1.2 - What is our dependent variable?"
   ]
  },
  {
   "cell_type": "markdown",
   "metadata": {},
   "source": [
    "The dependent variable is the time (in seconds) it takes to correctly identify the color of the word."
   ]
  },
  {
   "cell_type": "markdown",
   "metadata": {},
   "source": [
    "## Question 2.1 - What is an appropriate set of hypotheses for this task?"
   ]
  },
  {
   "cell_type": "markdown",
   "metadata": {},
   "source": [
    "**Null Hypothesis** Under the null hypothesis we generally assume that we observe no effect, or no change. So the null hypothesis is that there is no improvement in the time it takes to correctly identify the color of the word for both the congruent and incongruent samples.\n",
    "$$H_0: \\mu_i - \\mu_c \\le 0$$\n",
    "\n",
    "**Alternative Hypothesis** Under the alternative hypothesis we assume that the incongruent samples are more difficult to determine the correct color as quickly, due to the mismatch of color and word spelled. There is no reason to assume this would actually be easier to read than the congruent samples, therefore we are going to perform a one tailed test.\n",
    "$$H_a: \\mu_i - \\mu_c \\gt 0$$\n",
    "\n",
    "As is customary we'll use $\\alpha=0.05$.\n"
   ]
  },
  {
   "cell_type": "markdown",
   "metadata": {},
   "source": [
    "## Question 2.2 - What kind of statistical test do you expect to perform?"
   ]
  },
  {
   "cell_type": "markdown",
   "metadata": {},
   "source": [
    "As mentioned above, this should be a one-tailed test in the positive direction, due to the expectation that having incongruent samples will make discerning the correct color more difficult. There is no reason to suspect that it will make the process easier. \n",
    "\n",
    "As per the description of the provided data, it would appear that the congruent and incongruent tests were both done on the same set of people. This means that a dependent test is in order, as opposed to an independent test. Also, since we are comparing two sets of samples, and do not have access to population data, we are going to perform a t-test. "
   ]
  },
  {
   "cell_type": "markdown",
   "metadata": {},
   "source": [
    "## Question 3 - Report Descriptive Statistics"
   ]
  },
  {
   "cell_type": "code",
   "execution_count": 5,
   "metadata": {
    "collapsed": false
   },
   "outputs": [],
   "source": [
    "df = pandas.read_csv('stroopdata.csv')\n",
    "n = len(df['Congruent'])"
   ]
  },
  {
   "cell_type": "markdown",
   "metadata": {},
   "source": [
    "First, these data sets are not expected to be centered around zero mean. Let's normalize it, in the mean sense and under the null hypothesis, by computing the difference of the incongruent to congruent samples. Then we can measure the mean and median values of each of the samples."
   ]
  },
  {
   "cell_type": "code",
   "execution_count": 6,
   "metadata": {
    "collapsed": false
   },
   "outputs": [
    {
     "name": "stdout",
     "output_type": "stream",
     "text": [
      "Congruent      14.051125\n",
      "Incongruent    22.015917\n",
      "Delta           7.964792\n",
      "dtype: float64\n"
     ]
    }
   ],
   "source": [
    "df['Delta'] = df['Incongruent'] - df['Congruent']\n",
    "means = df.mean()\n",
    "print(means)"
   ]
  },
  {
   "cell_type": "markdown",
   "metadata": {},
   "source": [
    "$$\\overline{x}_c = 14.051$$\n",
    "$$\\overline{x}_i = 22.016$$\n",
    "$$\\overline{x}_d = 7.965$$"
   ]
  },
  {
   "cell_type": "code",
   "execution_count": 7,
   "metadata": {
    "collapsed": false
   },
   "outputs": [
    {
     "name": "stdout",
     "output_type": "stream",
     "text": [
      "Congruent      14.3565\n",
      "Incongruent    21.0175\n",
      "Delta           7.6665\n",
      "dtype: float64\n"
     ]
    }
   ],
   "source": [
    "print(df.median())"
   ]
  },
  {
   "cell_type": "markdown",
   "metadata": {},
   "source": [
    "The standard deviation of each data set should also be computed. Note that this method uses Bessel's correction, as required since this is the standard deviation of a sample, and not the population."
   ]
  },
  {
   "cell_type": "code",
   "execution_count": 8,
   "metadata": {
    "collapsed": false
   },
   "outputs": [
    {
     "name": "stdout",
     "output_type": "stream",
     "text": [
      "Congruent      3.559358\n",
      "Incongruent    4.797057\n",
      "Delta          4.864827\n",
      "dtype: float64\n"
     ]
    }
   ],
   "source": [
    "devs = df.std()\n",
    "print devs"
   ]
  },
  {
   "cell_type": "markdown",
   "metadata": {},
   "source": [
    "$$S_c = 3.559$$\n",
    "$$S_i = 4.797$$\n",
    "$$S_d = 4.865$$"
   ]
  },
  {
   "cell_type": "markdown",
   "metadata": {},
   "source": [
    "## Question 4 - Plot the Data"
   ]
  },
  {
   "cell_type": "code",
   "execution_count": 9,
   "metadata": {
    "collapsed": false
   },
   "outputs": [
    {
     "data": {
      "image/png": "[encoded data removed]",
      "text/plain": [
       "<matplotlib.figure.Figure at 0x7fa699cc2f10>"
      ]
     },
     "metadata": {},
     "output_type": "display_data"
    }
   ],
   "source": [
    "def plothist(x):\n",
    "    inbins = np.arange(0, 10) * 5\n",
    "    hist, bins = np.histogram(x, inbins)\n",
    "    center = (bins[:-1] + bins[1:]) / 2\n",
    "    plt.plot(center, hist, linewidth=1.5)\n",
    "    plt.title('Histogram')\n",
    "    plt.xlabel('Time (sec)')\n",
    "    \n",
    "plt.figure(figsize=(12,6), dpi=1200)\n",
    "plothist(df['Congruent'])\n",
    "plothist(df['Incongruent'])\n",
    "plothist(df['Delta'])\n",
    "plt.legend(['Congruent', 'Incongruent', 'Delta'])\n",
    "plt.show()"
   ]
  },
  {
   "cell_type": "markdown",
   "metadata": {},
   "source": [
    "Histograms are normally plotted using bar charts. However, a line plot is used here in order to observe the histogram of each set of data on the same chart. \n",
    "\n",
    "It's clear that this is a small sample size. Typically smaller sizes are possible with dependent samples tests, but it makes meaningful visualization of the histogram challenging. Any more bins and we start getting some bins with no counts and the shape is distorted. Any fewer bins and the histogram provides little value. \n",
    "\n",
    "There are a few salient points about the histograms worth mentioning. It's interesting to note that the subtraction of the incongruent and congruent samples produces a resulting histogram that is entirely positive. Under the null hypothesis we would expect it to be zero mean. But we'll have to test the significance of the result later. The delta histogram especially seems to have a positive skew, based on the histogram and the mean to median ratio."
   ]
  },
  {
   "cell_type": "markdown",
   "metadata": {},
   "source": [
    "## Question 5 - Perform the Statistical Test and Interpret the Results"
   ]
  },
  {
   "cell_type": "markdown",
   "metadata": {},
   "source": [
    "### Compute t-critical"
   ]
  },
  {
   "cell_type": "code",
   "execution_count": 23,
   "metadata": {
    "collapsed": false
   },
   "outputs": [
    {
     "name": "stdout",
     "output_type": "stream",
     "text": [
      "Number of samples = 24\n",
      "Degrees of freedom = 23\n",
      "Alpha = 0.05\n",
      "Critical value = 1.714\n"
     ]
    }
   ],
   "source": [
    "from scipy.stats import t\n",
    "dof = n - 1\n",
    "alpha = 0.05\n",
    "t_critical = -t.ppf(alpha, dof)\n",
    "print(\"Number of samples = {0}\".format(len(df['Congruent'])))\n",
    "print(\"Degrees of freedom = {0}\".format(dof))\n",
    "print(\"Alpha = {0}\".format(alpha))\n",
    "print(\"Critical value = {:.3f}\".format(t_critical))"
   ]
  },
  {
   "cell_type": "markdown",
   "metadata": {},
   "source": [
    "Since there are 24 measurements in each sample that means that there are 23 *degrees of freedom*.\n",
    "\n",
    "For a dependent samples, one-tailed (positive) t-test, with $\\alpha=0.05$, and 23 degrees of freedom, that produces the following *critical value*:\n",
    "\n",
    "$$t_{critital} = 1.714$$"
   ]
  },
  {
   "cell_type": "markdown",
   "metadata": {},
   "source": [
    "### Compute the Standard Error"
   ]
  },
  {
   "cell_type": "code",
   "execution_count": 12,
   "metadata": {
    "collapsed": false
   },
   "outputs": [
    {
     "name": "stdout",
     "output_type": "stream",
     "text": [
      "Standard error = 0.993\n"
     ]
    }
   ],
   "source": [
    "se = devs['Delta'] / np.sqrt(n)\n",
    "print(\"Standard error = {0:.3f}\".format(se))"
   ]
  },
  {
   "cell_type": "markdown",
   "metadata": {},
   "source": [
    "$$SE = \\frac{S_d}{\\sqrt{n}} = \\frac{4.865}{\\sqrt{24}} = 0.993$$"
   ]
  },
  {
   "cell_type": "markdown",
   "metadata": {},
   "source": [
    "### Compute the t-statistic"
   ]
  },
  {
   "cell_type": "markdown",
   "metadata": {},
   "source": [
    "The *t-statistic* is given by:\n",
    "\n",
    "$$t_{statistic} = \\frac{\\overline{x}_d}{SE} = \\frac{\\overline{x}_d}{\\frac{S_d}{\\sqrt{n}}}$$"
   ]
  },
  {
   "cell_type": "code",
   "execution_count": 14,
   "metadata": {
    "collapsed": false
   },
   "outputs": [
    {
     "name": "stdout",
     "output_type": "stream",
     "text": [
      "T-statistic = 8.021\n"
     ]
    }
   ],
   "source": [
    "t_stat = means['Delta'] / se\n",
    "print(\"T-statistic = {0:.3f}\".format(t_stat))"
   ]
  },
  {
   "cell_type": "markdown",
   "metadata": {},
   "source": [
    "$$t_{statistic} = 8.021$$"
   ]
  },
  {
   "cell_type": "markdown",
   "metadata": {},
   "source": [
    "### Decision"
   ]
  },
  {
   "cell_type": "markdown",
   "metadata": {},
   "source": [
    "Since $t_{statistic} > t_{critical}$, or $8.021 > 1.714$, we can **reject the null hypothesis**. We therefore know $p < 0.05$, but let's compute the actual *p-value*."
   ]
  },
  {
   "cell_type": "markdown",
   "metadata": {},
   "source": [
    "### Compute the p-value"
   ]
  },
  {
   "cell_type": "code",
   "execution_count": 36,
   "metadata": {
    "collapsed": false
   },
   "outputs": [
    {
     "name": "stdout",
     "output_type": "stream",
     "text": [
      "one tailed probability = p = 2.0515e-08\n"
     ]
    }
   ],
   "source": [
    "from scipy.stats import ttest_rel, t\n",
    "rv = t(dof)\n",
    "print(\"one tailed probability = p = {0:3g}\".format(rv.cdf(-t_stat)))"
   ]
  },
  {
   "cell_type": "markdown",
   "metadata": {},
   "source": [
    "We can also use the *cumulative distribution function* to compute the p-value, but we must invert the sign since the CDF naturally integrates from lower values to higher values. \n",
    "\n",
    "$$p = 2.05 \\times 10^{-8}$$\n",
    "\n",
    "For verification let's use the built in python tools to compute the t-statistic and p-value of our two data sets. This code computes the delta as the first parameter minus the second one. Note that the p-value returned is two-tailed. Therefore, we must take half of the resulting p-value for a one-tailed test. We again have to use the negative of the t-statistic because the CDF integrates from the left."
   ]
  },
  {
   "cell_type": "code",
   "execution_count": 37,
   "metadata": {
    "collapsed": false
   },
   "outputs": [
    {
     "name": "stdout",
     "output_type": "stream",
     "text": [
      "scipy.stats t-statistic = 8.021\n",
      "two tailed probability divided by two = 2.0515e-08\n",
      "one tailed probability = 2.0515e-08\n"
     ]
    }
   ],
   "source": [
    "from scipy.stats import ttest_rel, t\n",
    "tst, p = ttest_rel(df['Incongruent'],df['Congruent'])\n",
    "rv = t(dof)\n",
    "print(\"scipy.stats t-statistic = {0:.3f}\".format(tst))\n",
    "print(\"two tailed probability divided by two = {0:3g}\".format(p/2.0))\n",
    "print(\"one tailed probability = {0:3g}\".format(rv.cdf(-tst)))"
   ]
  },
  {
   "cell_type": "markdown",
   "metadata": {},
   "source": [
    "### Compute Cohen's D"
   ]
  },
  {
   "cell_type": "code",
   "execution_count": 13,
   "metadata": {
    "collapsed": false
   },
   "outputs": [
    {
     "name": "stdout",
     "output_type": "stream",
     "text": [
      "Cohen's D = 1.637\n"
     ]
    }
   ],
   "source": [
    "print(\"Cohen's D = {0:.3f}\".format(means['Delta']/devs['Delta']))"
   ]
  },
  {
   "cell_type": "markdown",
   "metadata": {},
   "source": [
    "*Cohen's D* is given by:\n",
    "\n",
    "$$d = \\frac{\\overline{x}_d}{S_d} = \\frac{7.965}{4.865} = 1.637$$"
   ]
  },
  {
   "cell_type": "markdown",
   "metadata": {},
   "source": [
    "### Correlation"
   ]
  },
  {
   "cell_type": "markdown",
   "metadata": {},
   "source": [
    "The correlation coefficient is given by:\n",
    "\n",
    "$$r^2 = \\frac{t^2}{t^2 + dof}$$"
   ]
  },
  {
   "cell_type": "code",
   "execution_count": 35,
   "metadata": {
    "collapsed": false
   },
   "outputs": [
    {
     "name": "stdout",
     "output_type": "stream",
     "text": [
      "r^2 = 0.74\n"
     ]
    }
   ],
   "source": [
    "corr_coef = t_stat**2 / (t_stat**2 + dof)\n",
    "print(\"r^2 = {0:.2f}\".format(corr_coef))"
   ]
  },
  {
   "cell_type": "markdown",
   "metadata": {},
   "source": [
    "$$r^2 = .74$$"
   ]
  },
  {
   "cell_type": "markdown",
   "metadata": {},
   "source": [
    "### Confidence Interval"
   ]
  },
  {
   "cell_type": "markdown",
   "metadata": {},
   "source": [
    "The confidence interval is given by:\n",
    "\n",
    "$$CI = \\overline{x}_d \\pm t_{critical} * \\frac{S_d}{\\sqrt{n}}$$"
   ]
  },
  {
   "cell_type": "code",
   "execution_count": 32,
   "metadata": {
    "collapsed": false
   },
   "outputs": [
    {
     "name": "stdout",
     "output_type": "stream",
     "text": [
      "Confidence Interval Lower Bound = 6.26\n",
      "Confidence Interval Lower Bound = 9.67\n"
     ]
    }
   ],
   "source": [
    "ci = dict(zip(['lb', 'ub'], means['Delta'] + t_critical * se * np.array([-1, 1])))\n",
    "print(\"Confidence Interval Lower Bound = {0:.2f}\".format(ci['lb']))\n",
    "print(\"Confidence Interval Lower Bound = {0:.2f}\".format(ci['ub']))"
   ]
  },
  {
   "cell_type": "markdown",
   "metadata": {},
   "source": [
    "$$CI = (6.26, 9.67)$$"
   ]
  },
  {
   "cell_type": "markdown",
   "metadata": {},
   "source": [
    "## Summary"
   ]
  },
  {
   "cell_type": "markdown",
   "metadata": {},
   "source": [
    "The Stroop effect is the observation that determining the color of a word is easier when the color matches the word spelled out (congruent). We assumed the null hypothesis of no mismatch existing, or of the times improving with the incongruent sample. They alternative hypothesis was that the times of the incongruent sample was greater than that of the congruent sample. We computed the difference between the incongruent and congruent samples, and computed a mean value of 7.96 and a standard deviation of 4.86. A dependent sample, one tailed t-test was performed on the data with, with the results given as $t(23) = 8.02, p=.00$, one-tailed. The confidence interval is $95\\% \\: CI = (6.26, 9.67)$. Cohen's D is given as $d=1.64$ and the correlation coefficient is $r^2 = .74$. Given these results we reject the null hypothesis."
   ]
  },
  {
   "cell_type": "markdown",
   "metadata": {},
   "source": [
    "## Question 6.1 (Optional) - What is Responsible for the Stroop Effect?"
   ]
  },
  {
   "cell_type": "markdown",
   "metadata": {},
   "source": [
    "There are multiple hypothesis of why this effect might be in place. The [wikipedia page](https://en.wikipedia.org/wiki/Stroop_effect#Theories) has a good section summarizing some of these hypothesis. Perhaps we have learned to read a word faster than recognizing the color of a word. This means that we must override what we've read to make the right choice when there is a mismatch. Alternatively, it might be more difficult to recognize color than read clear words. One of the most favored explanations is that recognizing and labelling colors isn't an automatic process of the brain, whereas reading words is. "
   ]
  },
  {
   "cell_type": "markdown",
   "metadata": {},
   "source": [
    "## Question 6.2 (Optional) - Can you think of an alternative or similar task that would result in a similar effect?"
   ]
  },
  {
   "cell_type": "markdown",
   "metadata": {},
   "source": [
    "This reminded me of the [implicit bias](https://implicit.harvard.edu/implicit/takeatest.html) project. This consists of categorizing faces as either darker skinned or lighter skinned, and also making an association of \"good\" or \"bad\" words with the faces. The association of good and bad words is changed in two of the tests, to correspond to different races. Based on the time it takes to match the words and skin tone it is possible to detect and show what may be an implicit bias."
   ]
  }
 ],
 "metadata": {
  "kernelspec": {
   "display_name": "Python 2",
   "language": "python",
   "name": "python2"
  },
  "language_info": {
   "codemirror_mode": {
    "name": "ipython",
    "version": 2
   },
   "file_extension": ".py",
   "mimetype": "text/x-python",
   "name": "python",
   "nbconvert_exporter": "python",
   "pygments_lexer": "ipython2",
   "version": "2.7.10"
  }
 },
 "nbformat": 4,
 "nbformat_minor": 0
}
