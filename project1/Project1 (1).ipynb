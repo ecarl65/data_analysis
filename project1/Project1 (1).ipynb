{
 "cells": [
  {
   "cell_type": "code",
   "execution_count": 26,
   "metadata": {
    "collapsed": false
   },
   "outputs": [],
   "source": [
    "#%matplotlib inline\n",
    "import pandas\n",
    "import matplotlib\n",
    "matplotlib.use('SVG')\n",
    "import matplotlib.pyplot as plt\n",
    "import numpy as np"
   ]
  },
  {
   "cell_type": "markdown",
   "metadata": {},
   "source": [
    "# Background Information"
   ]
  },
  {
   "cell_type": "markdown",
   "metadata": {},
   "source": [
    "In a Stroop task, participants are presented with a list of words, with each word displayed in a color of ink. The participant’s task is to say out loud the color of the ink in which the word is printed. The task has two conditions: a congruent words condition, and an incongruent words condition. In the congruent words condition, the words being displayed are color words whose names match the colors in which they are printed: for example RED, BLUE. In the incongruent words condition, the words displayed are color words whose names do not match the colors in which they are printed: for example PURPLE, ORANGE. In each case, we measure the time it takes to name the ink colors in equally-sized lists. Each participant will go through and record a time from each condition."
   ]
  },
  {
   "cell_type": "markdown",
   "metadata": {},
   "source": [
    "# Questions for Investigation"
   ]
  },
  {
   "cell_type": "markdown",
   "metadata": {},
   "source": [
    "## Question 1.1 - What is our independent variable? "
   ]
  },
  {
   "cell_type": "markdown",
   "metadata": {},
   "source": [
    "The independent variable is the choice of whether a word and its color is congruent or incongruent."
   ]
  },
  {
   "cell_type": "markdown",
   "metadata": {},
   "source": [
    "## Question 1.2 - What is our dependent variable?"
   ]
  },
  {
   "cell_type": "markdown",
   "metadata": {},
   "source": [
    "The dependent variable is the time (in seconds) it takes to correctly identify the color of the word."
   ]
  },
  {
   "cell_type": "markdown",
   "metadata": {},
   "source": [
    "## Question 2.1 - What is an appropriate set of hypotheses for this task?"
   ]
  },
  {
   "cell_type": "markdown",
   "metadata": {},
   "source": [
    "**Null Hypothesis** Under the null hypothesis we generally assume that we observe no effect, or no change. So the null hypothesis is that there is no change in the time it takes to correctly identify the color of the word for both the congruent and incongruent populations. We are using samples to infer information about the mean values of their respective populations. Under the null hypothesis there is no change between congruent and incongruent samples, or the mean of the incongruent population is less than the congruent population.\n",
    "$$H_0: \\mu_i - \\mu_c \\le 0$$\n",
    "\n",
    "**Alternative Hypothesis** Under the alternative hypothesis it is more difficult to determine the correct color for the incongruent population, due to the mismatch of color and word spelled. There is no reason to assume this would actually be easier to read than the congruent population, therefore we are going to perform a one tailed test.\n",
    "$$H_a: \\mu_i - \\mu_c \\gt 0$$\n",
    "\n",
    "As is customary we'll use $\\alpha=0.05$.\n"
   ]
  },
  {
   "cell_type": "markdown",
   "metadata": {},
   "source": [
    "## Question 2.2 - What kind of statistical test do you expect to perform?"
   ]
  },
  {
   "cell_type": "markdown",
   "metadata": {},
   "source": [
    "As mentioned above, this should be a one-sided test due to the expectation that having incongruent samples will make discerning the correct color more difficult. There is no reason to suspect that it will make the process easier. \n",
    "\n",
    "As per the description of the provided data, it would appear that the congruent and incongruent tests were both done on the same set of people. This means that a dependent test is in order, as opposed to an independent test. Also, since we are comparing two sets of samples, and do not have access to population data, we are going to have to perform a t-test. "
   ]
  },
  {
   "cell_type": "markdown",
   "metadata": {},
   "source": [
    "## Question 3 - Report Descriptive Statistics"
   ]
  },
  {
   "cell_type": "code",
   "execution_count": 2,
   "metadata": {
    "collapsed": false
   },
   "outputs": [],
   "source": [
    "df = pandas.read_csv('stroopdata.csv')\n",
    "n = len(df['Congruent'])"
   ]
  },
  {
   "cell_type": "markdown",
   "metadata": {},
   "source": [
    "First, these data sets are not expected to be centered around zero mean. Let's normalize it, in the mean sense and under the null hypothesis, by computing the difference of the incongruent to congruent samples. Then we can measure the mean and median values of each of the samples."
   ]
  },
  {
   "cell_type": "code",
   "execution_count": 3,
   "metadata": {
    "collapsed": false
   },
   "outputs": [
    {
     "name": "stdout",
     "output_type": "stream",
     "text": [
      "Congruent      14.051125\n",
      "Incongruent    22.015917\n",
      "Delta           7.964792\n",
      "dtype: float64\n"
     ]
    }
   ],
   "source": [
    "df['Delta'] = df['Incongruent'] - df['Congruent']\n",
    "means = df.mean()\n",
    "print(means)"
   ]
  },
  {
   "cell_type": "markdown",
   "metadata": {},
   "source": [
    "$$\\overline{x}_c = 14.051$$\n",
    "$$\\overline{x}_i = 22.016$$\n",
    "$$\\overline{x}_d = 7.965$$"
   ]
  },
  {
   "cell_type": "code",
   "execution_count": 4,
   "metadata": {
    "collapsed": false
   },
   "outputs": [
    {
     "name": "stdout",
     "output_type": "stream",
     "text": [
      "Congruent      14.3565\n",
      "Incongruent    21.0175\n",
      "Delta           7.6665\n",
      "dtype: float64\n"
     ]
    }
   ],
   "source": [
    "print(df.median())"
   ]
  },
  {
   "cell_type": "markdown",
   "metadata": {},
   "source": [
    "The standard deviation of each data set should also be computed. Note that this method uses Bessel's correction, as required since this is the standard deviation of a sample, and not the population."
   ]
  },
  {
   "cell_type": "code",
   "execution_count": 5,
   "metadata": {
    "collapsed": false
   },
   "outputs": [
    {
     "name": "stdout",
     "output_type": "stream",
     "text": [
      "Congruent      3.559358\n",
      "Incongruent    4.797057\n",
      "Delta          4.864827\n",
      "dtype: float64\n"
     ]
    }
   ],
   "source": [
    "devs = df.std()\n",
    "print devs"
   ]
  },
  {
   "cell_type": "markdown",
   "metadata": {},
   "source": [
    "$$S_c = 3.559$$\n",
    "$$S_i = 4.797$$\n",
    "$$S_d = 4.865$$"
   ]
  },
  {
   "cell_type": "markdown",
   "metadata": {},
   "source": [
    "## Question 4 - Plot the Data"
   ]
  },
  {
   "cell_type": "code",
   "execution_count": 27,
   "metadata": {
    "collapsed": false
   },
   "outputs": [],
   "source": [
    "def plothist(x):\n",
    "    inbins = np.arange(0, 10) * 5\n",
    "    hist, bins = np.histogram(x, inbins)\n",
    "    center = (bins[:-1] + bins[1:]) / 2\n",
    "    plt.plot(center, hist, linewidth=1.5)\n",
    "    plt.title('Histogram')\n",
    "    plt.xlabel('Time (sec)')\n",
    "    \n",
    "plt.figure(figsize=(12,6))\n",
    "plothist(df['Congruent'])\n",
    "plothist(df['Incongruent'])\n",
    "plothist(df['Delta'])\n",
    "plt.legend(['Congruent', 'Incongruent', 'Delta'])\n",
    "#plt.show()\n",
    "plt.savefig('/home/ecc/data_analysis/histograms.svg')"
   ]
  },
  {
   "cell_type": "markdown",
   "metadata": {},
   "source": [
    "Histograms are normally plotted using bar charts. However, a line plot is used here in order to observe the histogram of each set of data on the same chart. \n",
    "\n",
    "It's clear that this is unfortunately a small sample size. Typically smaller sizes are possible with dependent samples tests, but it makes meaningful visualization of the histogram challenging. Any more bins and we start getting some bins with no counts and the shape is distorted. Any fewer bins and the histogram provides little value. \n",
    "\n",
    "There are a few salient points about the histograms worth mentioning. It's interesting to note that the subtraction of the incongruent and congruent samples produces a resulting histogram that is entirely positive. Under the null hypothesis we would expect it to be zero mean. But we'll have to test the significance of the result later. The delta histogram especially seems to have a positive skew, based on the histogram and the mean to median ratio."
   ]
  },
  {
   "cell_type": "markdown",
   "metadata": {},
   "source": [
    "## Question 5 - Perform the Statistical Test and Interpret the Results"
   ]
  },
  {
   "cell_type": "code",
   "execution_count": 7,
   "metadata": {
    "collapsed": false
   },
   "outputs": [
    {
     "name": "stdout",
     "output_type": "stream",
     "text": [
      "Number of samples = 24\n",
      "Degrees of freedom = 23\n",
      "Alpha = 0.05\n",
      "Critical value = 1.714\n"
     ]
    }
   ],
   "source": [
    "from scipy.stats import t\n",
    "dof = n - 1\n",
    "alpha = 0.05\n",
    "print(\"Number of samples = {0}\".format(len(df['Congruent'])))\n",
    "print(\"Degrees of freedom = {0}\".format(dof))\n",
    "print(\"Alpha = {0}\".format(alpha))\n",
    "print(\"Critical value = {:.3f}\".format(-t.ppf(alpha, dof)))"
   ]
  },
  {
   "cell_type": "markdown",
   "metadata": {},
   "source": [
    "Since there are 24 measurements in each sample that means that there are 23 *degrees of freedom*.\n",
    "\n",
    "For a dependent samples, one-sided (positive) t-test, with $\\alpha=0.05$, and 23 degrees of freedom, that produces the following *critical value*:\n",
    "\n",
    "$$t_{critital} = 1.714$$"
   ]
  },
  {
   "cell_type": "markdown",
   "metadata": {},
   "source": [
    "The standard error of the mean is:"
   ]
  },
  {
   "cell_type": "code",
   "execution_count": 11,
   "metadata": {
    "collapsed": false
   },
   "outputs": [
    {
     "name": "stdout",
     "output_type": "stream",
     "text": [
      "Standard error = 0.993\n"
     ]
    }
   ],
   "source": [
    "se = devs['Delta'] / np.sqrt(n)\n",
    "print(\"Standard error = {0:.3f}\".format(se))"
   ]
  },
  {
   "cell_type": "markdown",
   "metadata": {},
   "source": [
    "$$SE = \\frac{S_d}{\\sqrt{n}} = \\frac{4.865}{\\sqrt{24}} = 0.993$$"
   ]
  },
  {
   "cell_type": "code",
   "execution_count": 12,
   "metadata": {
    "collapsed": false
   },
   "outputs": [
    {
     "name": "stdout",
     "output_type": "stream",
     "text": [
      "Cohen's D = 1.637\n"
     ]
    }
   ],
   "source": [
    "print(\"Cohen's D = {0:.3f}\".format(means['Delta']/devs['Delta']))"
   ]
  },
  {
   "cell_type": "markdown",
   "metadata": {},
   "source": [
    "*Cohen's D* is given by:\n",
    "\n",
    "$$d = \\frac{\\overline{x}_d - 0}{S_d} = \\frac{7.965}{4.865} = 1.637$$"
   ]
  },
  {
   "cell_type": "markdown",
   "metadata": {},
   "source": [
    "The *t-statistic* is given by:\n",
    "\n",
    "$$t_{statistic} = \\frac{\\overline{x}_d}{SE} = \\frac{\\overline{x}_d}{\\frac{S_d}{\\sqrt{n}}}$$"
   ]
  },
  {
   "cell_type": "code",
   "execution_count": 14,
   "metadata": {
    "collapsed": false
   },
   "outputs": [
    {
     "name": "stdout",
     "output_type": "stream",
     "text": [
      "T-statistic = 8.021\n"
     ]
    }
   ],
   "source": [
    "t_stat = means['Delta'] / se\n",
    "print(\"T-statistic = {0:.3f}\".format(t_stat))"
   ]
  },
  {
   "cell_type": "markdown",
   "metadata": {},
   "source": [
    "$$t_{statistic} = 8.021$$"
   ]
  },
  {
   "cell_type": "code",
   "execution_count": 60,
   "metadata": {
    "collapsed": false
   },
   "outputs": [
    {
     "name": "stdout",
     "output_type": "stream",
     "text": [
      "scipy.stats t-statistic = 8.021\n",
      "two-sided probability (WRONG ONE TO USE) = 4.103e-08\n",
      "two-sided probability divided by two = 2.0515e-08\n",
      "one sided probability = 2.0515e-08\n",
      "one sided probability = 2.0515e-08\n"
     ]
    }
   ],
   "source": [
    "from scipy.stats import ttest_rel, t\n",
    "tst, p = ttest_rel(df['Incongruent'],df['Congruent'])\n",
    "rv = t(dof)\n",
    "print(\"scipy.stats t-statistic = {0:.3f}\".format(tst))\n",
    "print(\"two-sided probability (WRONG ONE TO USE) = {0:3g}\".format(p))\n",
    "print(\"two-sided probability divided by two = {0:3g}\".format(p/2.0))\n",
    "print(\"one sided probability = {0:3g}\".format(rv.cdf(-tst)))\n",
    "print(\"one sided probability = {0:3g}\".format(rv.cdf(-t_stat)))"
   ]
  },
  {
   "cell_type": "code",
   "execution_count": 10,
   "metadata": {
    "collapsed": false
   },
   "outputs": [
    {
     "name": "stdout",
     "output_type": "stream",
     "text": [
      "    Congruent  Incongruent   Delta\n",
      "0      12.079       19.278   7.199\n",
      "1      16.791       18.741   1.950\n",
      "2       9.564       21.214  11.650\n",
      "3       8.630       15.687   7.057\n",
      "4      14.669       22.803   8.134\n",
      "5      12.238       20.878   8.640\n",
      "6      14.692       24.572   9.880\n",
      "7       8.987       17.394   8.407\n",
      "8       9.401       20.762  11.361\n",
      "9      14.480       26.282  11.802\n",
      "10     22.328       24.524   2.196\n",
      "11     15.298       18.644   3.346\n",
      "12     15.073       17.510   2.437\n",
      "13     16.929       20.330   3.401\n",
      "14     18.200       35.255  17.055\n",
      "15     12.130       22.158  10.028\n",
      "16     18.495       25.139   6.644\n",
      "17     10.639       20.429   9.790\n",
      "18     11.344       17.425   6.081\n",
      "19     12.369       34.288  21.919\n",
      "20     12.944       23.894  10.950\n",
      "21     14.233       17.960   3.727\n",
      "22     19.710       22.058   2.348\n",
      "23     16.004       21.157   5.153\n"
     ]
    }
   ],
   "source": [
    "print df"
   ]
  },
  {
   "cell_type": "code",
   "execution_count": null,
   "metadata": {
    "collapsed": true
   },
   "outputs": [],
   "source": []
  }
 ],
 "metadata": {
  "kernelspec": {
   "display_name": "Python 2",
   "language": "python",
   "name": "python2"
  },
  "language_info": {
   "codemirror_mode": {
    "name": "ipython",
    "version": 2
   },
   "file_extension": ".py",
   "mimetype": "text/x-python",
   "name": "python",
   "nbconvert_exporter": "python",
   "pygments_lexer": "ipython2",
   "version": "2.7.10"
  }
 },
 "nbformat": 4,
 "nbformat_minor": 0
}
